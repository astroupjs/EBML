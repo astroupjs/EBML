{
 "cells": [
  {
   "cell_type": "markdown",
   "id": "37a0c8a3",
   "metadata": {},
   "source": [
    "# Predicting Real Light Curve Classes with Pretrained Models\n",
    "\n",
    "Welcome to the Gaia light curve prediction notebook! This notebook will guide you through the process of using pretrained deep learning models (ResNet) to classify real astronomical light curve data. You will learn how to:\n",
    "\n",
    "- Prepare and preprocess real light curve data for prediction\n",
    "- Load pretrained models and perform inference\n",
    "- Interpret and visualize the classification results\n",
    "\n",
    "Follow the steps below to predict the class (e.g., detached, overcontact, spot/nospot) of real Gaia light curves using the models trained on synthetic data."
   ]
  },
  {
   "cell_type": "markdown",
   "id": "b3111230",
   "metadata": {
    "vscode": {
     "languageId": "plaintext"
    }
   },
   "source": [
    "### Download Gaia light curves"
   ]
  },
  {
   "cell_type": "markdown",
   "id": "8d62d616",
   "metadata": {},
   "source": [
    "To download *Gaia G* light curves for objects from WUMaCat and DEBcat, follow this link: https://u.pcloud.link/publink/show?code=kZMm285Zoy7Q3IAQOakIshhv4jTeH8OAtS4y#folder=25535342132\n",
    "\n",
    "You'll find the them in `SelectedLC\\GAIA_DEB\\` and `SelectedLC\\GAIA_WUmaCAT\\`. Download the LC folders, which contain Gaia G light curves in text format.\n",
    "\n",
    "For additional information, please refer to our paper."
   ]
  },
  {
   "cell_type": "markdown",
   "id": "9ed28561",
   "metadata": {},
   "source": [
    "We put them in `gaia_real_data` directory. DEBcat as `detached` and WUMaCat as `overcontact`. "
   ]
  },
  {
   "cell_type": "markdown",
   "id": "f5de0f9d",
   "metadata": {},
   "source": [
    "### Read a Gaia ECSV light curve file using Astropy\n",
    "Let's load a real Gaia light curve in ECSV format using Astropy's Table. This will allow us to inspect the data and prepare it for further processing."
   ]
  },
  {
   "cell_type": "code",
   "execution_count": 1,
   "id": "2d38cfa0",
   "metadata": {},
   "outputs": [
    {
     "data": {
      "text/html": [
       "<div><i>Table length=52</i>\n",
       "<table id=\"table4672586320\" class=\"table-striped table-bordered table-condensed\">\n",
       "<thead><tr><th>TimeG</th><th>FG</th><th>e_FG</th><th>Phase</th><th>norm_FG</th><th>e_norm_FG</th></tr></thead>\n",
       "<thead><tr><th></th><th></th><th></th><th></th><th></th><th></th></tr></thead>\n",
       "<thead><tr><th>float64</th><th>float64</th><th>float64</th><th>float64</th><th>float64</th><th>float64</th></tr></thead>\n",
       "<tr><td>2456956.297772</td><td>3622711</td><td>3183.114</td><td>0.5714</td><td>0.9962</td><td>0.0009</td></tr>\n",
       "<tr><td>2456990.207451</td><td>3604943</td><td>10585.95</td><td>0.3340</td><td>0.9913</td><td>0.0029</td></tr>\n",
       "<tr><td>2456990.281415</td><td>3617849</td><td>2315.054</td><td>0.3422</td><td>0.9949</td><td>0.0006</td></tr>\n",
       "<tr><td>2457005.537853</td><td>3556450</td><td>2351.332</td><td>0.0350</td><td>0.9780</td><td>0.0006</td></tr>\n",
       "<tr><td>2457005.713994</td><td>3558433</td><td>2842.105</td><td>0.0545</td><td>0.9785</td><td>0.0008</td></tr>\n",
       "<tr><td>2457005.788034</td><td>3607184</td><td>3988.129</td><td>0.0627</td><td>0.9919</td><td>0.0011</td></tr>\n",
       "<tr><td>2457134.047896</td><td>3560707</td><td>2490.186</td><td>0.2940</td><td>0.9792</td><td>0.0007</td></tr>\n",
       "<tr><td>2457170.444805</td><td>3566926</td><td>2284.662</td><td>0.3325</td><td>0.9809</td><td>0.0006</td></tr>\n",
       "<tr><td>2457184.698499</td><td>3601360</td><td>3914.649</td><td>0.9141</td><td>0.9903</td><td>0.0011</td></tr>\n",
       "<tr><td>...</td><td>...</td><td>...</td><td>...</td><td>...</td><td>...</td></tr>\n",
       "<tr><td>2457656.658898</td><td>3584648</td><td>1395.537</td><td>0.2813</td><td>0.9857</td><td>0.0004</td></tr>\n",
       "<tr><td>2457656.835069</td><td>3563345</td><td>2125.965</td><td>0.3008</td><td>0.9799</td><td>0.0006</td></tr>\n",
       "<tr><td>2457676.587465</td><td>3623151</td><td>4515.739</td><td>0.4925</td><td>0.9963</td><td>0.0012</td></tr>\n",
       "<tr><td>2457707.646671</td><td>3607414</td><td>1765.809</td><td>0.9387</td><td>0.9920</td><td>0.0005</td></tr>\n",
       "<tr><td>2457833.642748</td><td>3555113</td><td>2450.252</td><td>0.9188</td><td>0.9776</td><td>0.0007</td></tr>\n",
       "<tr><td>2457833.716748</td><td>3584324</td><td>5463.032</td><td>0.9270</td><td>0.9857</td><td>0.0015</td></tr>\n",
       "<tr><td>2457855.965279</td><td>3568148</td><td>4063.81</td><td>0.3957</td><td>0.9812</td><td>0.0011</td></tr>\n",
       "<tr><td>2457856.141421</td><td>3597920</td><td>1599.86</td><td>0.4152</td><td>0.9894</td><td>0.0004</td></tr>\n",
       "<tr><td>2457885.94984</td><td>3605335</td><td>2209.977</td><td>0.7227</td><td>0.9914</td><td>0.0006</td></tr>\n",
       "</table></div>"
      ],
      "text/plain": [
       "<Table length=52>\n",
       "    TimeG            FG            e_FG       Phase  norm_FG e_norm_FG\n",
       "                                                                      \n",
       "   float64        float64        float64     float64 float64  float64 \n",
       "-------------- -------------- -------------- ------- ------- ---------\n",
       "2456956.297772        3622711       3183.114  0.5714  0.9962    0.0009\n",
       "2456990.207451        3604943       10585.95  0.3340  0.9913    0.0029\n",
       "2456990.281415        3617849       2315.054  0.3422  0.9949    0.0006\n",
       "2457005.537853        3556450       2351.332  0.0350  0.9780    0.0006\n",
       "2457005.713994        3558433       2842.105  0.0545  0.9785    0.0008\n",
       "2457005.788034        3607184       3988.129  0.0627  0.9919    0.0011\n",
       "2457134.047896        3560707       2490.186  0.2940  0.9792    0.0007\n",
       "2457170.444805        3566926       2284.662  0.3325  0.9809    0.0006\n",
       "2457184.698499        3601360       3914.649  0.9141  0.9903    0.0011\n",
       "           ...            ...            ...     ...     ...       ...\n",
       "2457656.658898        3584648       1395.537  0.2813  0.9857    0.0004\n",
       "2457656.835069        3563345       2125.965  0.3008  0.9799    0.0006\n",
       "2457676.587465        3623151       4515.739  0.4925  0.9963    0.0012\n",
       "2457707.646671        3607414       1765.809  0.9387  0.9920    0.0005\n",
       "2457833.642748        3555113       2450.252  0.9188  0.9776    0.0007\n",
       "2457833.716748        3584324       5463.032  0.9270  0.9857    0.0015\n",
       "2457855.965279        3568148        4063.81  0.3957  0.9812    0.0011\n",
       "2457856.141421        3597920        1599.86  0.4152  0.9894    0.0004\n",
       " 2457885.94984        3605335       2209.977  0.7227  0.9914    0.0006"
      ]
     },
     "metadata": {},
     "output_type": "display_data"
    }
   ],
   "source": [
    "from astropy.table import Table\n",
    "\n",
    "# Example file path (update as needed|)\n",
    "ecvs_path = '../data/gaia_real_data/detached/AI_Hya_3077483709857255808_p.ecvs'\n",
    "\n",
    "table = Table.read(ecvs_path, format='ascii.ecsv')\n",
    "display(table)"
   ]
  },
  {
   "cell_type": "markdown",
   "id": "29a8b5c5",
   "metadata": {},
   "source": [
    "The table contains the following columns:\n",
    "\n",
    "- `TimeG`: Time of observation in Barycentric Julian Date (BJD).\n",
    "- `FG`: Flux in the Gaia G band.\n",
    "- `e_FG`: Error in the flux.\n",
    "- `Phase`: Phase of the light curve.\n",
    "- `norm_FG`: Normalized flux (on maximum).\n",
    "- `e_norm_FG`: Error in the normalized flux."
   ]
  },
  {
   "cell_type": "markdown",
   "id": "12ea0f77",
   "metadata": {},
   "source": [
    "### Plot a normalized, phase-folded Gaia light curve\n",
    "Now let's visualize the normalized, phase-folded light curve from the ECSV file. "
   ]
  },
  {
   "cell_type": "code",
   "execution_count": 2,
   "id": "44d1a352",
   "metadata": {},
   "outputs": [
    {
     "data": {
      "image/png": "[encoded data removed]",
      "text/plain": [
       "<Figure size 700x400 with 1 Axes>"
      ]
     },
     "metadata": {},
     "output_type": "display_data"
    }
   ],
   "source": [
    "import matplotlib.pyplot as plt\n",
    "\n",
    "# Plot phase vs normalized flux\n",
    "plt.figure(figsize=(7, 4))\n",
    "plt.scatter(table['Phase'], table['norm_FG'], s=10, alpha=0.7, color='tab:blue')\n",
    "plt.xlabel('Phase')\n",
    "plt.ylabel('Normalized Flux (G band)')\n",
    "plt.title('Normalized Phase-folded Gaia Light Curve')\n",
    "plt.grid(True, alpha=0.3)\n",
    "plt.show()"
   ]
  },
  {
   "cell_type": "markdown",
   "id": "0b822d08",
   "metadata": {},
   "source": [
    "Now, you can imagine how the data looks like.\n",
    "We will transform it to polar_hexbin representation and predict the class of the object using ResNet and ViT models. "
   ]
  },
  {
   "cell_type": "markdown",
   "id": "04d3888d",
   "metadata": {},
   "source": [
    "### Transform a real Gaia light curve to a polar hexbin image\n",
    "We will use the function from `make_polar_hexbin_images.py` to convert the ECSV light curve to a polar hexbin PNG image, ready for model prediction."
   ]
  },
  {
   "cell_type": "code",
   "execution_count": 3,
   "id": "02aff789",
   "metadata": {},
   "outputs": [
    {
     "name": "stdout",
     "output_type": "stream",
     "text": [
      "Saved polar hexbin image: ../data/gaia_real_data/detached/AI_Hya_3077483709857255808_p.png\n"
     ]
    }
   ],
   "source": [
    "import sys\n",
    "sys.path.append('../scripts')\n",
    "from make_polar_hexbin_images import create_polar_hexbin_from_ecsv\n",
    "\n",
    "# Use the same ECSV file as before\n",
    "image_path = create_polar_hexbin_from_ecsv(ecvs_path, out_dir=\"../data/gaia_real_data/detached/\")\n",
    "print(f\"Saved polar hexbin image: {image_path}\")"
   ]
  },
  {
   "cell_type": "markdown",
   "id": "2af2f0cf",
   "metadata": {},
   "source": [
    "### Download models from the cloud to use them.\n",
    "We will use ResNet model trained for binary classification and spot detection. \n",
    "Follow again the link: https://u.pcloud.link/publink/show?code=kZMm285Zoy7Q3IAQOakIshhv4jTeH8OAtS4y#folder=25535342132\n",
    "From `Models/Gaia/` download:\n",
    "- 2class_binary_resnet_gaia_hexbin.pth\n",
    "- 2class_detachspot_resnet_gaia_hexbin.pth\n",
    "- 2class_overspot_resnet_gaia_hexbin.pth\n",
    "\n",
    "Save them into `models` directory in your current workspace."
   ]
  },
  {
   "cell_type": "markdown",
   "id": "bca5a51d",
   "metadata": {},
   "source": [
    "### Load a pretrained ResNet model and predict the class for a real Gaia object\n",
    "We will load a pretrained ResNet model and use it to predict the class of the chosen real Gaia light curve, using the polar hexbin image we generated."
   ]
  },
  {
   "cell_type": "code",
   "execution_count": 13,
   "id": "af83ce0f",
   "metadata": {},
   "outputs": [
    {
     "name": "stdout",
     "output_type": "stream",
     "text": [
      "Predicted class: detached system\n",
      "Class probabilities: [9.9999964e-01 4.0198546e-07]\n"
     ]
    }
   ],
   "source": [
    "import sys\n",
    "sys.path.append('../scripts')\n",
    "from classify_pytorch_resnet import load_resnet_model, predict_image\n",
    "\n",
    "# Path to the pretrained model (update if needed)\n",
    "model_path = '../models/2class_binary_resnet_gaia_hexbin.pth'\n",
    "\n",
    "# Load the model\n",
    "model = load_resnet_model(model_path, num_classes=2)\n",
    "\n",
    "# Predict the class for the generated image\n",
    "predicted_class, probabilities = predict_image(model, image_path)\n",
    "if predicted_class == 0:\n",
    "    print(\"Predicted class: detached system\")\n",
    "elif predicted_class == 1:\n",
    "    print(\"Predicted class: overcontact system\")\n",
    "print(f\"Class probabilities: {probabilities}\")"
   ]
  },
  {
   "cell_type": "markdown",
   "id": "144330c3",
   "metadata": {},
   "source": [
    "### Predict spot existence for a detached system using the detachspot model\n",
    "Since the predicted class is 0 (detached), we will now use the pretrained ResNet model for spot detection on detached systems to predict whether the object has spots."
   ]
  },
  {
   "cell_type": "code",
   "execution_count": 15,
   "id": "147702ff",
   "metadata": {},
   "outputs": [
    {
     "name": "stdout",
     "output_type": "stream",
     "text": [
      "Predicted: no spot\n",
      "Spot class probabilities: [0.850407   0.14959295]\n"
     ]
    }
   ],
   "source": [
    "# Path to the pretrained spot detection model for detached systems\n",
    "spot_model_path = '../models/2class_detachspot_resnet_gaia_hexbin.pth'\n",
    "\n",
    "# Load the spot detection model\n",
    "spot_model = load_resnet_model(spot_model_path, num_classes=2)\n",
    "\n",
    "# Predict spot/nospot for the same image\n",
    "spot_class, spot_probabilities = predict_image(spot_model, image_path)\n",
    "if spot_class == 0:\n",
    "    print(\"Predicted: no spot\")\n",
    "elif spot_class == 1:\n",
    "    print(\"Predicted: spot present\")\n",
    "print(f\"Spot class probabilities: {spot_probabilities}\")"
   ]
  },
  {
   "cell_type": "markdown",
   "id": "7a079904",
   "metadata": {},
   "source": [
    "### Batch prediction for all real Gaia objects: system type and spot existence\n",
    "\n",
    "This cell will:\n",
    "- Iterate over all ECSV files in both `detached` and `overcontact` directories.\n",
    "- For each object, generate a polar hexbin image (if not already present), predict the system class (detached/overcontact), and predict spot existence.\n",
    "- Store results in two DataFrames: one for system classification, one for spot detection.\n",
    "- Each DataFrame will have columns: `object`, `class`, `class_probability`, `spots`, `spot_probability`."
   ]
  },
  {
   "cell_type": "code",
   "execution_count": 9,
   "id": "2a6334b4",
   "metadata": {},
   "outputs": [],
   "source": [
    "import os\n",
    "import glob\n",
    "import pandas as pd\n",
    "import sys\n",
    "\n",
    "sys.path.append('../scripts')\n",
    "from make_polar_hexbin_images import create_polar_hexbin_from_ecsv\n",
    "from classify_pytorch_resnet import load_resnet_model, predict_image\n",
    "\n",
    "# Paths to models\n",
    "class_model_path = '../models/2class_binary_resnet_gaia_hexbin.pth'\n",
    "detachspot_model_path = '../models/2class_detachspot_resnet_gaia_hexbin.pth'\n",
    "overspot_model_path = '../models/2class_overspot_resnet_gaia_hexbin.pth'\n",
    "\n",
    "# Load models once\n",
    "class_model = load_resnet_model(class_model_path, num_classes=2)\n",
    "detachspot_model = load_resnet_model(detachspot_model_path, num_classes=2)\n",
    "overspot_model = load_resnet_model(overspot_model_path, num_classes=2)\n",
    "\n",
    "# Directories\n",
    "base_dir = '../data/gaia_real_data'\n",
    "dirs = ['detached', 'overcontact']\n",
    "\n",
    "detached_results = []\n",
    "overcontact_results = []\n",
    "\n",
    "for system_type in dirs:\n",
    "    ecsv_dir = os.path.join(base_dir, system_type)\n",
    "    for ecsv_path in glob.glob(os.path.join(ecsv_dir, '*.ecvs')):\n",
    "        # Object name is the part before the first '_'\n",
    "        object_name = os.path.basename(ecsv_path).split('_')[0]\n",
    "        if system_type == 'detached':\n",
    "            object_name = '_'.join(os.path.basename(ecsv_path).split('_')[:2])\n",
    "        # Generate image (will overwrite if exists)\n",
    "        image_path = create_polar_hexbin_from_ecsv(ecsv_path, out_dir=ecsv_dir)\n",
    "        # Predict system class\n",
    "        pred_class, class_probs = predict_image(class_model, image_path)\n",
    "        class_label = 'detached' if pred_class == 0 else 'overcontact'\n",
    "        class_prob = class_probs[pred_class]\n",
    "        # Prepare row for system classification\n",
    "        row = {\n",
    "            'object': object_name,\n",
    "            'class': class_label,\n",
    "            'class_probability': class_prob,\n",
    "            'spots': None,\n",
    "            'spot_probability': None\n",
    "        }\n",
    "        # Predict spots using the correct model\n",
    "        if class_label == 'detached':\n",
    "            spot_pred, spot_probs = predict_image(detachspot_model, image_path)\n",
    "            spot_label = 'n' if spot_pred == 0 else 's'\n",
    "            spot_prob = spot_probs[spot_pred]\n",
    "            # Add spot info to row\n",
    "            row['spots'] = spot_label\n",
    "            row['spot_probability'] = spot_prob\n",
    "            # Store in detached results    \n",
    "        else:\n",
    "            spot_pred, spot_probs = predict_image(overspot_model, image_path)\n",
    "            spot_label = 'n' if spot_pred == 0 else 's'\n",
    "            spot_prob = spot_probs[spot_pred]\n",
    "            # Add spot info to row\n",
    "            row['spots'] = spot_label\n",
    "            row['spot_probability'] = spot_prob\n",
    "\n",
    "        # Append row to the appropriate results list\n",
    "        if system_type == 'detached':\n",
    "            detached_results.append(row)\n",
    "        else:\n",
    "            overcontact_results.append(row)\n",
    "\n",
    "    # Create DataFrames\n",
    "    df_detached = pd.DataFrame(detached_results)\n",
    "    df_overcontact = pd.DataFrame(overcontact_results)"
   ]
  },
  {
   "cell_type": "code",
   "execution_count": 11,
   "id": "9ab87222",
   "metadata": {},
   "outputs": [
    {
     "name": "stdout",
     "output_type": "stream",
     "text": [
      "Detached systems:\n",
      "Accuracy:  1.000\n",
      "Precision: 1.000\n",
      "Recall:    1.000\n",
      "F1-score:  1.000\n",
      "\n",
      "Overcontact systems:\n",
      "Accuracy:  0.820\n",
      "Precision: 1.000\n",
      "Recall:    0.820\n",
      "F1-score:  0.901\n"
     ]
    }
   ],
   "source": [
    "from sklearn.metrics import accuracy_score, precision_score, recall_score, f1_score\n",
    "\n",
    "# For detached systems\n",
    "true_detached = ['detached'] * len(df_detached)\n",
    "pred_detached = df_detached['class'].tolist()\n",
    "\n",
    "acc_det = accuracy_score(true_detached, pred_detached)\n",
    "prec_det = precision_score(true_detached, pred_detached, pos_label='detached')\n",
    "rec_det = recall_score(true_detached, pred_detached, pos_label='detached')\n",
    "f1_det = f1_score(true_detached, pred_detached, pos_label='detached')\n",
    "\n",
    "print('Detached systems:')\n",
    "print(f'Accuracy:  {acc_det:.3f}')\n",
    "print(f'Precision: {prec_det:.3f}')\n",
    "print(f'Recall:    {rec_det:.3f}')\n",
    "print(f'F1-score:  {f1_det:.3f}')\n",
    "\n",
    "# For overcontact systems\n",
    "true_over = ['overcontact'] * len(df_overcontact)\n",
    "pred_over = df_overcontact['class'].tolist()\n",
    "\n",
    "acc_over = accuracy_score(true_over, pred_over)\n",
    "prec_over = precision_score(true_over, pred_over, pos_label='overcontact')\n",
    "rec_over = recall_score(true_over, pred_over, pos_label='overcontact')\n",
    "f1_over = f1_score(true_over, pred_over, pos_label='overcontact')\n",
    "\n",
    "print('\\nOvercontact systems:')\n",
    "print(f'Accuracy:  {acc_over:.3f}')\n",
    "print(f'Precision: {prec_over:.3f}')\n",
    "print(f'Recall:    {rec_over:.3f}')\n",
    "print(f'F1-score:  {f1_over:.3f}')"
   ]
  },
  {
   "cell_type": "markdown",
   "id": "47cba8bb",
   "metadata": {},
   "source": [
    "### Cross-correlate predicted overcontact objects with WUMaCat catalog\n",
    "We will compare the `object` column in `df_overcontact` with the `name` column in `classification_WUMaCat.csv` to find which predicted overcontact objects are not present in the catalog."
   ]
  },
  {
   "cell_type": "code",
   "execution_count": 15,
   "id": "24142c7f",
   "metadata": {},
   "outputs": [
    {
     "name": "stdout",
     "output_type": "stream",
     "text": [
      "Objects in df_overcontact not in classification_WUMaCat.csv: ['BH Cas', 'BO CVn', 'CX Vir', 'DY Cet', 'ES Lib', 'GW Cnc', 'V2612 Oph', 'V502 Oph', 'V524 Mon', 'V829 Her']\n",
      "Total missing: 10\n"
     ]
    }
   ],
   "source": [
    "import pandas as pd\n",
    "\n",
    "# Load the WUMaCat catalog\n",
    "wumacat = pd.read_csv('../data/classification_WUMaCat.csv')\n",
    "\n",
    "# Get the set of object names in the catalog\n",
    "wumacat_names = set(wumacat['name'].astype(str))\n",
    "\n",
    "# Get the set of predicted overcontact objects\n",
    "overcontact_objects = set(df_overcontact['object'].astype(str))\n",
    "\n",
    "# Find objects in df_overcontact not present in the catalog\n",
    "not_in_catalog = sorted(list(overcontact_objects - wumacat_names))\n",
    "\n",
    "print(f\"Objects in df_overcontact not in classification_WUMaCat.csv: {not_in_catalog}\")\n",
    "print(f\"Total missing: {len(not_in_catalog)}\")"
   ]
  },
  {
   "cell_type": "markdown",
   "id": "1240f5e0",
   "metadata": {},
   "source": [
    "### Print classification results for overcontact objects not in WUMaCat\n",
    "Below are the predicted classes and probabilities for the overcontact objects missing from the WUMaCat catalog."
   ]
  },
  {
   "cell_type": "code",
   "execution_count": 17,
   "id": "1cd6040c",
   "metadata": {},
   "outputs": [
    {
     "data": {
      "text/html": [
       "<div>\n",
       "<style scoped>\n",
       "    .dataframe tbody tr th:only-of-type {\n",
       "        vertical-align: middle;\n",
       "    }\n",
       "\n",
       "    .dataframe tbody tr th {\n",
       "        vertical-align: top;\n",
       "    }\n",
       "\n",
       "    .dataframe thead th {\n",
       "        text-align: right;\n",
       "    }\n",
       "</style>\n",
       "<table border=\"1\" class=\"dataframe\">\n",
       "  <thead>\n",
       "    <tr style=\"text-align: right;\">\n",
       "      <th></th>\n",
       "      <th>object</th>\n",
       "      <th>class</th>\n",
       "      <th>class_probability</th>\n",
       "      <th>spots</th>\n",
       "      <th>spot_probability</th>\n",
       "    </tr>\n",
       "  </thead>\n",
       "  <tbody>\n",
       "    <tr>\n",
       "      <th>73</th>\n",
       "      <td>BH Cas</td>\n",
       "      <td>overcontact</td>\n",
       "      <td>0.997387</td>\n",
       "      <td>s</td>\n",
       "      <td>0.996995</td>\n",
       "    </tr>\n",
       "    <tr>\n",
       "      <th>74</th>\n",
       "      <td>BO CVn</td>\n",
       "      <td>overcontact</td>\n",
       "      <td>0.999988</td>\n",
       "      <td>n</td>\n",
       "      <td>0.868481</td>\n",
       "    </tr>\n",
       "    <tr>\n",
       "      <th>88</th>\n",
       "      <td>CX Vir</td>\n",
       "      <td>overcontact</td>\n",
       "      <td>0.958007</td>\n",
       "      <td>s</td>\n",
       "      <td>0.500607</td>\n",
       "    </tr>\n",
       "    <tr>\n",
       "      <th>64</th>\n",
       "      <td>DY Cet</td>\n",
       "      <td>overcontact</td>\n",
       "      <td>0.999997</td>\n",
       "      <td>n</td>\n",
       "      <td>0.804314</td>\n",
       "    </tr>\n",
       "    <tr>\n",
       "      <th>0</th>\n",
       "      <td>ES Lib</td>\n",
       "      <td>detached</td>\n",
       "      <td>0.844277</td>\n",
       "      <td>n</td>\n",
       "      <td>0.797879</td>\n",
       "    </tr>\n",
       "    <tr>\n",
       "      <th>47</th>\n",
       "      <td>GW Cnc</td>\n",
       "      <td>overcontact</td>\n",
       "      <td>0.998182</td>\n",
       "      <td>s</td>\n",
       "      <td>0.500724</td>\n",
       "    </tr>\n",
       "    <tr>\n",
       "      <th>53</th>\n",
       "      <td>V2612 Oph</td>\n",
       "      <td>overcontact</td>\n",
       "      <td>0.986244</td>\n",
       "      <td>s</td>\n",
       "      <td>0.914510</td>\n",
       "    </tr>\n",
       "    <tr>\n",
       "      <th>92</th>\n",
       "      <td>V502 Oph</td>\n",
       "      <td>overcontact</td>\n",
       "      <td>0.998500</td>\n",
       "      <td>s</td>\n",
       "      <td>0.850837</td>\n",
       "    </tr>\n",
       "    <tr>\n",
       "      <th>76</th>\n",
       "      <td>V524 Mon</td>\n",
       "      <td>detached</td>\n",
       "      <td>0.868602</td>\n",
       "      <td>s</td>\n",
       "      <td>0.984493</td>\n",
       "    </tr>\n",
       "    <tr>\n",
       "      <th>79</th>\n",
       "      <td>V829 Her</td>\n",
       "      <td>overcontact</td>\n",
       "      <td>0.992190</td>\n",
       "      <td>s</td>\n",
       "      <td>0.850008</td>\n",
       "    </tr>\n",
       "  </tbody>\n",
       "</table>\n",
       "</div>"
      ],
      "text/plain": [
       "       object        class  class_probability spots  spot_probability\n",
       "73     BH Cas  overcontact           0.997387     s          0.996995\n",
       "74     BO CVn  overcontact           0.999988     n          0.868481\n",
       "88     CX Vir  overcontact           0.958007     s          0.500607\n",
       "64     DY Cet  overcontact           0.999997     n          0.804314\n",
       "0      ES Lib     detached           0.844277     n          0.797879\n",
       "47     GW Cnc  overcontact           0.998182     s          0.500724\n",
       "53  V2612 Oph  overcontact           0.986244     s          0.914510\n",
       "92   V502 Oph  overcontact           0.998500     s          0.850837\n",
       "76   V524 Mon     detached           0.868602     s          0.984493\n",
       "79   V829 Her  overcontact           0.992190     s          0.850008"
      ]
     },
     "metadata": {},
     "output_type": "display_data"
    }
   ],
   "source": [
    "# Filter df_overcontact for objects not in the catalog\n",
    "missing_df = df_overcontact[df_overcontact['object'].astype(str).isin(not_in_catalog)]\n",
    "display(missing_df.sort_values(by='object'))"
   ]
  },
  {
   "cell_type": "code",
   "execution_count": 29,
   "id": "7693be97",
   "metadata": {},
   "outputs": [
    {
     "name": "stdout",
     "output_type": "stream",
     "text": [
      "1SWASP J150822.80-054236.9, AH Aur, AQ Psc, BX And, ES Lib, ET Leo, FT Lup, GZ And, HI Pup, QW Gem, SS Ari, TX Cnc, TYC 2675-663-1, V524 Mon, V592 Per, V728 Her, V870 Ara, Y Sex\n"
     ]
    }
   ],
   "source": [
    "print(', '.join(df_overcontact[df_overcontact['class'] == 'detached']['object'].sort_values()))"
   ]
  },
  {
   "cell_type": "code",
   "execution_count": null,
   "id": "9bed8067",
   "metadata": {},
   "outputs": [],
   "source": []
  }
 ],
 "metadata": {
  "kernelspec": {
   "display_name": "venv",
   "language": "python",
   "name": "python3"
  },
  "language_info": {
   "codemirror_mode": {
    "name": "ipython",
    "version": 3
   },
   "file_extension": ".py",
   "mimetype": "text/x-python",
   "name": "python",
   "nbconvert_exporter": "python",
   "pygments_lexer": "ipython3",
   "version": "3.10.14"
  }
 },
 "nbformat": 4,
 "nbformat_minor": 5
}
