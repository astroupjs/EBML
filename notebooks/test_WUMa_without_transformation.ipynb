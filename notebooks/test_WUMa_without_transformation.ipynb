{
 "cells": [
  {
   "cell_type": "code",
   "execution_count": 1,
   "id": "24e87c79",
   "metadata": {},
   "outputs": [],
   "source": [
    "import os\n",
    "import glob\n",
    "import pandas as pd\n",
    "import sys\n",
    "\n",
    "sys.path.append('../scripts')\n",
    "from make_polar_hexbin_images import create_polar_hexbin_from_ecsv\n",
    "from classify_pytorch_resnet import load_resnet_model, predict_image\n",
    "\n",
    "# Paths to models\n",
    "class_model_path = '../models/2class_binary_resnet_gaia_hexbin.pth'\n",
    "overspot_model_path = '../models/2class_overspot_resnet_gaia_hexbin.pth'\n",
    "\n",
    "# Load models once\n",
    "class_model = load_resnet_model(class_model_path, num_classes=2)\n",
    "overspot_model = load_resnet_model(overspot_model_path, num_classes=2)\n",
    "\n",
    "# Directory containing images\n",
    "image_dir = '../data/gaia_real_data/images_hex'\n",
    "\n",
    "overcontact_results = []\n",
    "\n",
    "for image_path in glob.glob(os.path.join(image_dir, '*.png')):\n",
    "    # Object name is the part before the first '_'\n",
    "    object_name = os.path.basename(image_path).split('_')[0]\n",
    "    # Predict system class\n",
    "    pred_class, class_probs = predict_image(class_model, image_path)\n",
    "    class_label = 'detached' if pred_class == 0 else 'overcontact'\n",
    "    class_prob = class_probs[pred_class]\n",
    "    # Only process overcontact systems\n",
    "    if class_label == 'overcontact':\n",
    "        row = {\n",
    "            'object': object_name,\n",
    "            'class': class_label,\n",
    "            'class_probability': class_prob,\n",
    "            'spots': None,\n",
    "            'spot_probability': None\n",
    "        }\n",
    "        # Predict spots using the overcontact spot model\n",
    "        spot_pred, spot_probs = predict_image(overspot_model, image_path)\n",
    "        spot_label = 'n' if spot_pred == 0 else 's'\n",
    "        spot_prob = spot_probs[spot_pred]\n",
    "        row['spots'] = spot_label\n",
    "        row['spot_probability'] = spot_prob\n",
    "        overcontact_results.append(row)\n",
    "\n",
    "# Create DataFrame\n",
    "df_overcontact = pd.DataFrame(overcontact_results)\n"
   ]
  },
  {
   "cell_type": "code",
   "execution_count": 4,
   "id": "6b78932e",
   "metadata": {},
   "outputs": [
    {
     "name": "stdout",
     "output_type": "stream",
     "text": [
      "<class 'pandas.core.frame.DataFrame'>\n",
      "RangeIndex: 82 entries, 0 to 81\n",
      "Data columns (total 5 columns):\n",
      " #   Column             Non-Null Count  Dtype  \n",
      "---  ------             --------------  -----  \n",
      " 0   object             82 non-null     object \n",
      " 1   class              82 non-null     object \n",
      " 2   class_probability  82 non-null     float32\n",
      " 3   spots              82 non-null     object \n",
      " 4   spot_probability   82 non-null     float32\n",
      "dtypes: float32(2), object(3)\n",
      "memory usage: 2.7+ KB\n"
     ]
    }
   ],
   "source": [
    "df_overcontact.info()"
   ]
  },
  {
   "cell_type": "code",
   "execution_count": null,
   "id": "ca0b3d20",
   "metadata": {},
   "outputs": [],
   "source": []
  }
 ],
 "metadata": {
  "kernelspec": {
   "display_name": "venv",
   "language": "python",
   "name": "python3"
  },
  "language_info": {
   "codemirror_mode": {
    "name": "ipython",
    "version": 3
   },
   "file_extension": ".py",
   "mimetype": "text/x-python",
   "name": "python",
   "nbconvert_exporter": "python",
   "pygments_lexer": "ipython3",
   "version": "3.10.14"
  }
 },
 "nbformat": 4,
 "nbformat_minor": 5
}
